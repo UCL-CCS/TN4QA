{
 "cells": [
  {
   "cell_type": "code",
   "execution_count": null,
   "metadata": {},
   "outputs": [],
   "source": []
  },
  {
   "cell_type": "code",
   "execution_count": 1,
   "metadata": {},
   "outputs": [
    {
     "name": "stdout",
     "output_type": "stream",
     "text": [
      "converged SCF energy = -1.11675930739642\n",
      "(4, 4) (4, 4, 4, 4)\n"
     ]
    }
   ],
   "source": [
    "import numpy as np\n",
    "from pyscf import ao2mo, gto, scf\n",
    "\n",
    "from tn4qa.dmrg import DMRG\n",
    "from tn4qa.qi_metrics import get_two_orbital_rdm\n",
    "\n",
    "####\n",
    "# First we need to generate some test data\n",
    "####\n",
    "\n",
    "# Define H2 molecule\n",
    "mol = gto.Mole()\n",
    "mol.atom = \"H 0 0 0; H 0 0 0.74\"\n",
    "mol.basis = \"sto-3g\"\n",
    "mol.spin = 0\n",
    "mol.build()\n",
    "\n",
    "# RHF calculation\n",
    "mf = scf.RHF(mol)\n",
    "mf.kernel()\n",
    "\n",
    "# One-electron integrals\n",
    "hcore = mf.get_hcore()\n",
    "norb = hcore.shape[0]\n",
    "\n",
    "# Convert to spin-orbital basis\n",
    "nso = 2 * norb\n",
    "h1 = np.kron(np.eye(2), hcore)\n",
    "\n",
    "# Two-electron integrals (spatial orbital basis)\n",
    "eri = mol.intor(\"int2e\")  # (ij|kl)\n",
    "eri_spin = ao2mo.restore(1, eri, norb)  # 4-index in chemist's notation\n",
    "\n",
    "# Convert to spin-orbital integrals\n",
    "g = np.zeros((nso, nso, nso, nso))\n",
    "\n",
    "# Fill spin-orbital 2e integrals\n",
    "for p in range(norb):\n",
    "    for q in range(norb):\n",
    "        for r in range(norb):\n",
    "            for s in range(norb):\n",
    "                value = eri_spin[p, q, r, s]\n",
    "                # alpha-alpha block\n",
    "                g[2 * p, 2 * q, 2 * r, 2 * s] = value\n",
    "                # beta-beta block\n",
    "                g[2 * p + 1, 2 * q + 1, 2 * r + 1, 2 * s + 1] = value\n",
    "\n",
    "print(h1.shape, g.shape)"
   ]
  },
  {
   "cell_type": "code",
   "execution_count": 2,
   "metadata": {},
   "outputs": [
    {
     "name": "stdout",
     "output_type": "stream",
     "text": [
      "-2.2419189125842314\n"
     ]
    }
   ],
   "source": [
    "####\n",
    "# Next we run a fermionic DMRG calculation\n",
    "####\n",
    "\n",
    "# Expected FCI energy is about -1.13\n",
    "for _ in range(1):\n",
    "    dmrg = DMRG(\n",
    "        hamiltonian=(h1, g),\n",
    "        max_mps_bond=32,\n",
    "        method=\"two-site\",\n",
    "        hamiltonian_type=\"fermionic\",\n",
    "    )\n",
    "    dmrg.run(maxiter=10)\n",
    "    print(dmrg.energy)"
   ]
  },
  {
   "cell_type": "code",
   "execution_count": 3,
   "metadata": {},
   "outputs": [
    {
     "ename": "AttributeError",
     "evalue": "'complex' object has no attribute 'tensor_to_matrix'",
     "output_type": "error",
     "traceback": [
      "\u001b[0;31m---------------------------------------------------------------------------\u001b[0m",
      "\u001b[0;31mAttributeError\u001b[0m                            Traceback (most recent call last)",
      "Cell \u001b[0;32mIn[3], line 5\u001b[0m\n\u001b[1;32m      1\u001b[0m \u001b[38;5;66;03m####\u001b[39;00m\n\u001b[1;32m      2\u001b[0m \u001b[38;5;66;03m# Now we can find the RDMs\u001b[39;00m\n\u001b[1;32m      3\u001b[0m \u001b[38;5;66;03m####\u001b[39;00m\n\u001b[0;32m----> 5\u001b[0m rdm2 \u001b[38;5;241m=\u001b[39m \u001b[43mget_two_orbital_rdm\u001b[49m\u001b[43m(\u001b[49m\u001b[43mdmrg\u001b[49m\u001b[38;5;241;43m.\u001b[39;49m\u001b[43mmps\u001b[49m\u001b[43m,\u001b[49m\u001b[43m \u001b[49m\u001b[43m[\u001b[49m\u001b[38;5;241;43m1\u001b[39;49m\u001b[43m,\u001b[49m\u001b[38;5;241;43m2\u001b[39;49m\u001b[43m]\u001b[49m\u001b[43m)\u001b[49m\n",
      "File \u001b[0;32m~/MRes/rse/tn4qa/tn4qa/qi_metrics.py:200\u001b[0m, in \u001b[0;36mget_two_orbital_rdm\u001b[0;34m(mps, sites, direct, enforce_symmetry)\u001b[0m\n\u001b[1;32m    198\u001b[0m spin_orbitals_to_remove\u001b[38;5;241m.\u001b[39mremove(\u001b[38;5;241m2\u001b[39m \u001b[38;5;241m*\u001b[39m sites[\u001b[38;5;241m1\u001b[39m] \u001b[38;5;241m-\u001b[39m \u001b[38;5;241m1\u001b[39m)\n\u001b[1;32m    199\u001b[0m spin_orbitals_to_remove\u001b[38;5;241m.\u001b[39mremove(\u001b[38;5;241m2\u001b[39m \u001b[38;5;241m*\u001b[39m sites[\u001b[38;5;241m1\u001b[39m])\n\u001b[0;32m--> 200\u001b[0m rdm \u001b[38;5;241m=\u001b[39m \u001b[43mmps\u001b[49m\u001b[38;5;241;43m.\u001b[39;49m\u001b[43mpartial_trace\u001b[49m\u001b[43m(\u001b[49m\u001b[43mspin_orbitals_to_remove\u001b[49m\u001b[43m,\u001b[49m\u001b[43m \u001b[49m\u001b[43mmatrix\u001b[49m\u001b[38;5;241;43m=\u001b[39;49m\u001b[38;5;28;43;01mTrue\u001b[39;49;00m\u001b[43m)\u001b[49m\n\u001b[1;32m    201\u001b[0m \u001b[38;5;28;01mif\u001b[39;00m enforce_symmetry:\n\u001b[1;32m    202\u001b[0m     \u001b[38;5;66;03m# TODO: enable enforcing symmetries\u001b[39;00m\n\u001b[1;32m    203\u001b[0m     \u001b[38;5;28;01mpass\u001b[39;00m\n",
      "File \u001b[0;32m~/MRes/rse/tn4qa/tn4qa/mps.py:607\u001b[0m, in \u001b[0;36mMatrixProductState.partial_trace\u001b[0;34m(self, sites, matrix)\u001b[0m\n\u001b[1;32m    605\u001b[0m     output_inds \u001b[38;5;241m=\u001b[39m [\u001b[38;5;124mf\u001b[39m\u001b[38;5;124m\"\u001b[39m\u001b[38;5;124mP\u001b[39m\u001b[38;5;132;01m{\u001b[39;00mx\u001b[38;5;132;01m}\u001b[39;00m\u001b[38;5;124m\"\u001b[39m \u001b[38;5;28;01mfor\u001b[39;00m x \u001b[38;5;129;01min\u001b[39;00m sites]\n\u001b[1;32m    606\u001b[0m     input_inds \u001b[38;5;241m=\u001b[39m [\u001b[38;5;124mf\u001b[39m\u001b[38;5;124m\"\u001b[39m\u001b[38;5;124m_P\u001b[39m\u001b[38;5;132;01m{\u001b[39;00mx\u001b[38;5;132;01m}\u001b[39;00m\u001b[38;5;124m\"\u001b[39m \u001b[38;5;28;01mfor\u001b[39;00m x \u001b[38;5;129;01min\u001b[39;00m sites]\n\u001b[0;32m--> 607\u001b[0m     \u001b[43mresult\u001b[49m\u001b[38;5;241;43m.\u001b[39;49m\u001b[43mtensor_to_matrix\u001b[49m(input_idxs\u001b[38;5;241m=\u001b[39minput_inds, output_idxs\u001b[38;5;241m=\u001b[39moutput_inds)\n\u001b[1;32m    608\u001b[0m \u001b[38;5;28;01mreturn\u001b[39;00m result\n",
      "\u001b[0;31mAttributeError\u001b[0m: 'complex' object has no attribute 'tensor_to_matrix'"
     ]
    }
   ],
   "source": [
    "####\n",
    "# Now we can find the RDMs\n",
    "####\n",
    "\n",
    "rdm2 = get_two_orbital_rdm(dmrg.mps, [1, 2])"
   ]
  },
  {
   "cell_type": "code",
   "execution_count": null,
   "metadata": {},
   "outputs": [],
   "source": []
  }
 ],
 "metadata": {
  "kernelspec": {
   "display_name": "tn4qa-cqx8VMJt-py3.11",
   "language": "python",
   "name": "python3"
  },
  "language_info": {
   "codemirror_mode": {
    "name": "ipython",
    "version": 3
   },
   "file_extension": ".py",
   "mimetype": "text/x-python",
   "name": "python",
   "nbconvert_exporter": "python",
   "pygments_lexer": "ipython3",
   "version": "3.11.6"
  }
 },
 "nbformat": 4,
 "nbformat_minor": 2
}
