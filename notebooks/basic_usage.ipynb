{
 "cells": [
  {
   "cell_type": "markdown",
   "metadata": {},
   "source": [
    "# Basic Usage\n",
    "\n",
    "In this notebook we go through some example usage of the base classes offered by TN4QA. These are:\n",
    "\n",
    "* Tensor\n",
    "* TensorNetwork\n",
    "* MatrixProductState\n",
    "* MatrixProductOperator\n",
    "\n"
   ]
  },
  {
   "cell_type": "code",
   "execution_count": 61,
   "metadata": {},
   "outputs": [],
   "source": [
    "from tn4qa.tensor import Tensor\n",
    "from tn4qa.tn import TensorNetwork\n",
    "from tn4qa.mps import MatrixProductState \n",
    "from tn4qa.mpo import MatrixProductOperator\n",
    "\n",
    "import numpy as np\n",
    "from qiskit import QuantumCircuit\n",
    "from copy import deepcopy"
   ]
  },
  {
   "cell_type": "markdown",
   "metadata": {},
   "source": [
    "## Tensor"
   ]
  },
  {
   "cell_type": "code",
   "execution_count": 63,
   "metadata": {},
   "outputs": [
    {
     "name": "stdout",
     "output_type": "stream",
     "text": [
      "[[[ 0  1]\n",
      "  [ 2  3]\n",
      "  [ 4  5]]\n",
      "\n",
      " [[ 6  7]\n",
      "  [ 8  9]\n",
      "  [10 11]]]\n",
      "(2, 3, 2)\n",
      "['a', 'b', 'c']\n",
      "['MyFirstTensor']\n",
      "Tensor with shape (2, 3, 2) and indices ['a', 'b', 'c']\n",
      "3\n"
     ]
    }
   ],
   "source": [
    "data = np.array(range(12)).reshape(2,3,2)\n",
    "t = Tensor(data, [\"a\", \"b\", \"c\"], [\"MyFirstTensor\"])\n",
    "print(t.data.todense())\n",
    "print(t.dimensions)\n",
    "print(t.indices)\n",
    "print(t.labels)\n",
    "print(t)\n",
    "print(t.get_dimension_of_index(\"b\"))"
   ]
  },
  {
   "cell_type": "code",
   "execution_count": 10,
   "metadata": {},
   "outputs": [
    {
     "name": "stdout",
     "output_type": "stream",
     "text": [
      "[[[1.+0.j         0.+0.j        ]\n",
      "  [0.+0.j         1.+0.j        ]]\n",
      "\n",
      " [[0.+0.j         0.+0.j        ]\n",
      "  [0.+0.j         0.+1.41421356j]]]\n",
      "(2, 2, 2)\n",
      "['a', 'd', 'e']\n",
      "['T1', 'copy3']\n"
     ]
    }
   ],
   "source": [
    "t2 = Tensor.rank_3_copy(indices=[\"a\",\"d\",\"e\"])\n",
    "print(t2.data.todense())\n",
    "print(t2.dimensions)\n",
    "print(t2.indices)\n",
    "print(t2.labels)"
   ]
  },
  {
   "cell_type": "markdown",
   "metadata": {},
   "source": [
    "## TensorNetwork"
   ]
  },
  {
   "cell_type": "code",
   "execution_count": 66,
   "metadata": {},
   "outputs": [
    {
     "name": "stdout",
     "output_type": "stream",
     "text": [
      "Tensor Network containing: \n",
      "Tensor with shape (2, 3, 2) and indices ['a', 'b', 'c'] \n",
      "Tensor with shape (2, 2, 2) and indices ['a', 'd', 'e'] \n",
      "\n",
      "['a']\n",
      "['b', 'c', 'd', 'e']\n",
      "Tensor with shape (3, 2, 2, 2) and indices ['b', 'c', 'd', 'e']\n"
     ]
    }
   ],
   "source": [
    "tn = TensorNetwork([t,t2])\n",
    "print(tn)\n",
    "print(tn.get_internal_indices())\n",
    "print(tn.get_external_indices())\n",
    "\n",
    "contracted_t = tn.contract_entire_network()\n",
    "print(contracted_t)"
   ]
  },
  {
   "cell_type": "markdown",
   "metadata": {},
   "source": [
    "## MatrixProductState\n",
    "\n",
    "Matrix Product States represent quantum states."
   ]
  },
  {
   "cell_type": "code",
   "execution_count": 69,
   "metadata": {},
   "outputs": [
    {
     "name": "stdout",
     "output_type": "stream",
     "text": [
      "2\n",
      "Tensor Network containing: \n",
      "Tensor with shape (4, 2) and indices ['B1', 'P1'] \n",
      "Tensor with shape (4, 4, 2) and indices ['B1', 'B2', 'P2'] \n",
      "Tensor with shape (4, 4, 2) and indices ['B2', 'B3', 'P3'] \n",
      "Tensor with shape (4, 4, 2) and indices ['B3', 'B4', 'P4'] \n",
      "Tensor with shape (4, 4, 2) and indices ['B4', 'B5', 'P5'] \n",
      "Tensor with shape (4, 2) and indices ['B5', 'P6'] \n",
      "\n"
     ]
    }
   ],
   "source": [
    "# mps = MatrixProductState()\n",
    "\n",
    "# qc = QuantumCircuit(4)\n",
    "# qc.h(0)\n",
    "# qc.cx(0,1)\n",
    "# qc.cx(1,2)\n",
    "# qc.cx(2,3)\n",
    "# mps = MatrixProductState.from_qiskit_circuit(qc, 16)\n",
    "# mps.draw()\n",
    "# print(mps.to_dense_array())\n",
    "\n",
    "# mps = MatrixProductState.random_mps(8, 12, 4)\n",
    "# print(mps.bond_dimension)\n",
    "# print(mps.num_sites)\n",
    "# print(mps.physical_dimension)\n",
    "# print(mps)\n",
    "\n",
    "mps = MatrixProductState.random_quantum_state_mps(6, 4)\n",
    "print(mps.physical_dimension)\n",
    "print(mps)"
   ]
  },
  {
   "cell_type": "code",
   "execution_count": 37,
   "metadata": {},
   "outputs": [
    {
     "name": "stdout",
     "output_type": "stream",
     "text": [
      "(1+0j)\n",
      "(0.9999999997456148+0j)\n",
      "(0.9999962115609836+0j)\n",
      "(0.9993715451215373+0j)\n",
      "(0.9204417077418471+0j)\n"
     ]
    }
   ],
   "source": [
    "mps = MatrixProductState.random_quantum_state_mps(8, 16)\n",
    "mps_16 = deepcopy(mps)\n",
    "print(mps.compute_inner_product(mps))\n",
    "mps.compress(8)\n",
    "print(mps.compute_inner_product(mps_16))\n",
    "mps.compress(4)\n",
    "print(mps.compute_inner_product(mps_16))\n",
    "mps.compress(2)\n",
    "print(mps.compute_inner_product(mps_16))\n",
    "mps.compress(1)\n",
    "print(mps.compute_inner_product(mps_16))"
   ]
  },
  {
   "cell_type": "code",
   "execution_count": 72,
   "metadata": {},
   "outputs": [
    {
     "name": "stdout",
     "output_type": "stream",
     "text": [
      "[1.+0.j 0.+0.j 0.+0.j 0.+0.j 0.+0.j 0.+0.j 0.+0.j 0.+0.j 0.+0.j 0.+0.j\n",
      " 0.+0.j 0.+0.j 0.+0.j 0.+0.j 0.+0.j 1.+0.j]\n",
      "[0.70710678+0.j 0.        +0.j 0.        +0.j 0.        +0.j\n",
      " 0.        +0.j 0.        +0.j 0.        +0.j 0.        +0.j\n",
      " 0.        +0.j 0.        +0.j 0.        +0.j 0.        +0.j\n",
      " 0.        +0.j 0.        +0.j 0.        +0.j 0.70710678+0.j]\n"
     ]
    }
   ],
   "source": [
    "mps_zero = MatrixProductState.all_zero_mps(4)\n",
    "\n",
    "qc_one = QuantumCircuit(4)\n",
    "qc_one.x([0,1,2,3])\n",
    "mps_one = MatrixProductState.from_qiskit_circuit(qc_one, 16)\n",
    "\n",
    "# print(mps_zero.to_dense_array())\n",
    "# print(mps_one.to_dense_array())\n",
    "\n",
    "# mps_zero.multiply_by_constant(np.sqrt(1/2))\n",
    "# mps_one.multiply_by_constant(np.sqrt(1/2))\n",
    "mps_ghz = mps_zero + mps_one\n",
    "print(mps_ghz.to_dense_array())\n",
    "mps_ghz.normalise()\n",
    "print(mps_ghz.to_dense_array())"
   ]
  },
  {
   "cell_type": "markdown",
   "metadata": {},
   "source": [
    "## MatrixProductOperator\n",
    "\n",
    "Matrix Product Operators represent operators. "
   ]
  },
  {
   "cell_type": "code",
   "execution_count": 76,
   "metadata": {},
   "outputs": [
    {
     "name": "stdout",
     "output_type": "stream",
     "text": [
      "[[-0.1  0.   0.   0.1]\n",
      " [ 0.  -0.1  0.1  0. ]\n",
      " [ 0.   0.1 -0.1  0. ]\n",
      " [ 0.1  0.   0.  -0.1]]\n"
     ]
    }
   ],
   "source": [
    "# mpo = MatrixProductOperator()\n",
    "\n",
    "# mpo = MatrixProductOperator.identity_mpo(4)\n",
    "# print(mpo.to_dense_array())\n",
    "# print(mpo)\n",
    "# mpo.draw()\n",
    "\n",
    "# qc = QuantumCircuit(2)\n",
    "# qc.x(0)\n",
    "# qc.x(1)\n",
    "# mpo = MatrixProductOperator.from_qiskit_circuit(qc, 16)\n",
    "# print(mpo.to_dense_array())\n",
    "\n",
    "# mpo = MatrixProductOperator.from_pauli_string(\"XX\")\n",
    "# print(mpo.to_dense_array())\n",
    "\n",
    "ham_dict = {\"XX\" : 0.1, \"II\" : -0.1}\n",
    "mpo = MatrixProductOperator.from_hamiltonian(ham_dict, 16)\n",
    "print(mpo.to_dense_array())"
   ]
  },
  {
   "cell_type": "code",
   "execution_count": 77,
   "metadata": {},
   "outputs": [
    {
     "name": "stdout",
     "output_type": "stream",
     "text": [
      "[[1.+0.j 0.+0.j 0.+0.j 0.+0.j]\n",
      " [0.+0.j 1.+0.j 0.+0.j 0.+0.j]\n",
      " [0.+0.j 0.+0.j 1.+0.j 0.+0.j]\n",
      " [0.+0.j 0.+0.j 0.+0.j 1.+0.j]]\n"
     ]
    }
   ],
   "source": [
    "mpo1 = MatrixProductOperator.from_pauli_string(\"XX\")\n",
    "# mpo1.multiply_by_constant(0.1)\n",
    "\n",
    "# mpo2 = MatrixProductOperator.from_pauli_string(\"II\")\n",
    "# mpo2.multiply_by_constant(-0.1)\n",
    "\n",
    "# mpo = mpo1 + mpo2\n",
    "# print(mpo.to_dense_array())\n",
    "\n",
    "mpo3 = MatrixProductOperator.from_pauli_string(\"XX\")\n",
    "mpo = mpo1 * mpo3\n",
    "print(mpo.to_dense_array())"
   ]
  },
  {
   "cell_type": "code",
   "execution_count": 79,
   "metadata": {},
   "outputs": [
    {
     "name": "stdout",
     "output_type": "stream",
     "text": [
      "(1.0000000000000002+0j)\n"
     ]
    }
   ],
   "source": [
    "mpo = MatrixProductOperator.from_pauli_string(\"XX\")\n",
    "mps = MatrixProductState.equal_superposition_mps(2)\n",
    "print(mps.compute_expectation_value(mpo))"
   ]
  },
  {
   "cell_type": "markdown",
   "metadata": {},
   "source": []
  }
 ],
 "metadata": {
  "kernelspec": {
   "display_name": "tn4qa-cqx8VMJt-py3.11",
   "language": "python",
   "name": "python3"
  },
  "language_info": {
   "codemirror_mode": {
    "name": "ipython",
    "version": 3
   },
   "file_extension": ".py",
   "mimetype": "text/x-python",
   "name": "python",
   "nbconvert_exporter": "python",
   "pygments_lexer": "ipython3",
   "version": "3.11.6"
  }
 },
 "nbformat": 4,
 "nbformat_minor": 2
}
