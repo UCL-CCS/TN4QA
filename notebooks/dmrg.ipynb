{
 "cells": [
  {
   "cell_type": "markdown",
   "metadata": {},
   "source": [
    "# DMRG \n",
    "\n",
    "In this notebook we go through using TN4QA's DMRG solver."
   ]
  },
  {
   "cell_type": "code",
   "execution_count": 15,
   "metadata": {},
   "outputs": [],
   "source": [
    "from tn4qa.dmrg import DMRG\n",
    "from tn4qa.utils import ham_dict_from_scf\n",
    "\n",
    "import pyscf\n",
    "import numpy as np"
   ]
  },
  {
   "cell_type": "markdown",
   "metadata": {},
   "source": [
    "## Fermionic Hamiltonian\n",
    "\n",
    "We can run DMRG directly on a second quantised Hamiltonian."
   ]
  },
  {
   "cell_type": "code",
   "execution_count": 13,
   "metadata": {},
   "outputs": [
    {
     "name": "stdout",
     "output_type": "stream",
     "text": [
      "converged SCF energy = -1.06610864931794\n"
     ]
    },
    {
     "data": {
      "text/plain": [
       "np.float64(-1.0661086493179366)"
      ]
     },
     "execution_count": 13,
     "metadata": {},
     "output_type": "execute_result"
    }
   ],
   "source": [
    "# Define H2 molecule\n",
    "mol = pyscf.gto.Mole()\n",
    "mol.atom = \"H 0 0 0; H 0 0 1.0\"\n",
    "mol.basis = \"sto-3g\"\n",
    "mol.spin = 0\n",
    "mol.build()\n",
    "\n",
    "# RHF calculation\n",
    "mf = pyscf.scf.RHF(mol)\n",
    "mf.kernel()\n",
    "\n",
    "fci_energy = pyscf.fci.FCI(mf).run()\n",
    "print(fci_energy.e_tot)"
   ]
  },
  {
   "cell_type": "code",
   "execution_count": 14,
   "metadata": {},
   "outputs": [],
   "source": [
    "import logging\n",
    "from typing import Tuple\n",
    "\n",
    "logger = logging.getLogger(__name__)\n",
    "\n",
    "\n",
    "def _one_body_integrals(self) -> np.ndarray:\n",
    "    \"\"\"Get the one electron integrals.\"\"\"\n",
    "    logger.debug(\"Calculating one body integrals.\")\n",
    "    c_matrix_active = self.scf_method.mo_coeff\n",
    "    logger.debug(f\"{c_matrix_active.shape=}\")\n",
    "    logger.debug(f\"{c_matrix_active[0].shape=}\")\n",
    "\n",
    "    logger.debug(f\"{self.scf_method.get_hcore().shape=}\")\n",
    "\n",
    "    # Embedding procedure creates two different hcores\n",
    "    # Using different v_eff\n",
    "    if self.scf_method.get_hcore().ndim == 2:\n",
    "        # Driver has not been used.\n",
    "        hcore = [self.scf_method.get_hcore()] * 2\n",
    "    elif self.scf_method.get_hcore().ndim == 3:\n",
    "        # Driver has been used.\n",
    "        hcore = self.scf_method.get_hcore()\n",
    "\n",
    "    # one body terms\n",
    "    if not self._restricted:\n",
    "        logger.info(\"Calculating unrestricted one body intergrals.\")\n",
    "        one_body_integrals_alpha = c_matrix_active[0].T @ hcore[0] @ c_matrix_active[0]\n",
    "        one_body_integrals_beta = c_matrix_active[1].T @ hcore[1] @ c_matrix_active[1]\n",
    "\n",
    "        one_body_integrals = np.array(\n",
    "            [one_body_integrals_alpha, one_body_integrals_beta]\n",
    "        )\n",
    "\n",
    "    else:\n",
    "        logger.info(\"Calculating restricted one body integrals.\")\n",
    "        # We double these up so that we have the same number as\n",
    "        # the unrestricted case.\n",
    "        one_body_integrals = np.array(\n",
    "            [c_matrix_active.T @ self.scf_method.get_hcore() @ c_matrix_active] * 2\n",
    "        )\n",
    "    logger.debug(\"One body integrals found.\")\n",
    "    logger.debug(f\"{one_body_integrals.shape}\")\n",
    "\n",
    "    return one_body_integrals\n",
    "\n",
    "\n",
    "def _two_body_integrals(self) -> np.ndarray:\n",
    "    \"\"\"Get the two electron integrals.\"\"\"\n",
    "    logger.debug(\"Calculating two body integrals.\")\n",
    "    c_matrix_active = self.scf_method.mo_coeff\n",
    "\n",
    "    if not self._restricted:\n",
    "        n_orbs_alpha = c_matrix_active[0].shape[1]\n",
    "        n_orbs_beta = c_matrix_active[1].shape[1]\n",
    "\n",
    "        # Could make this more flexible later.\n",
    "        if n_orbs_alpha != n_orbs_beta:\n",
    "            raise ValueError(\n",
    "                \"Must localize the same number of alpha and beta orbitals.\"\n",
    "            )\n",
    "\n",
    "        c_alpha = c_matrix_active[0]\n",
    "        c_beta = c_matrix_active[1]\n",
    "\n",
    "        # Pyscf is in chemist notation\n",
    "        # later we transpose to physicist notation for openfermion\n",
    "        spin_options = {\n",
    "            \"aaaa\": (c_alpha, c_alpha, c_alpha, c_alpha),\n",
    "            \"bbbb\": (c_beta, c_beta, c_beta, c_beta),\n",
    "            \"aabb\": (c_alpha, c_alpha, c_beta, c_beta),\n",
    "            \"bbaa\": (c_beta, c_beta, c_alpha, c_alpha),\n",
    "        }\n",
    "\n",
    "        two_body_integrals = []\n",
    "        for spin in spin_options:\n",
    "            two_body_compressed = pyscf.ao2mo.kernel(self.scf_method.mol, spin_options[spin])\n",
    "            eri = pyscf.ao2mo.restore(1, two_body_compressed, n_orbs_alpha)\n",
    "            two_body_integrals.append(np.asarray(eri.transpose(0, 2, 3, 1), order=\"C\"))\n",
    "\n",
    "    else:\n",
    "        n_orbs = c_matrix_active.shape[1]\n",
    "\n",
    "        two_body_compressed = pyscf.ao2mo.kernel(self.scf_method.mol, c_matrix_active)\n",
    "\n",
    "        # get electron repulsion integrals\n",
    "        eri = pyscf.ao2mo.restore(1, two_body_compressed, n_orbs)  # no permutation symmetry\n",
    "\n",
    "        # Copy this 4 times so that we have the same number as\n",
    "        # the unrestricted case\n",
    "        # Openfermion uses physicist notation whereas pyscf uses chemists\n",
    "        two_body_integrals = [np.asarray(eri.transpose(0, 2, 3, 1), order=\"C\")] * 4\n",
    "\n",
    "    two_body_integrals = np.array(two_body_integrals)\n",
    "\n",
    "    logger.debug(\"Two body integrals found.\")\n",
    "    logger.debug(f\"{two_body_integrals.shape}\")\n",
    "    return two_body_integrals\n",
    "\n",
    "\n",
    "def _spinorb_from_spatial(\n",
    "    one_body_integrals: np.ndarray, two_body_integrals: np.ndarray\n",
    ") -> Tuple[np.ndarray, np.ndarray]:\n",
    "    \"\"\"Convert spatial integrals to spin-orbital integrals.\n",
    "\n",
    "    Args:\n",
    "        one_body_integrals (np.ndarray): One-electron integrals in physicist notation.\n",
    "        two_body_integrals (np.ndarray): Two-electron integrals in physicist notation.\n",
    "\n",
    "    Returns:\n",
    "        one_body_coefficients (np.ndarray): One-electron coefficients in spinorb form.\n",
    "        two_body_coefficients (np.ndarray): Two-electron coefficients in spinorb form.\n",
    "\n",
    "    \"\"\"\n",
    "    logger.debug(\"Converting to spin-orbital coefficients.\")\n",
    "    n_qubits = one_body_integrals[0].shape[0] + one_body_integrals[1].shape[0]\n",
    "\n",
    "    # Initialize Hamiltonian coefficients.\n",
    "    one_body_coefficients = np.zeros((n_qubits, n_qubits))\n",
    "    two_body_coefficients = np.zeros((n_qubits, n_qubits, n_qubits, n_qubits))\n",
    "\n",
    "    # Loop through integrals.\n",
    "    for p in range(n_qubits // 2):\n",
    "        for q in range(n_qubits // 2):\n",
    "            # Populate 1-body coefficients. Require p and q have same spin.\n",
    "            one_body_coefficients[2 * p, 2 * q] = one_body_integrals[0, p, q]\n",
    "            one_body_coefficients[2 * p + 1, 2 * q + 1] = one_body_integrals[1, p, q]\n",
    "\n",
    "            # Continue looping to prepare 2-body coefficients.\n",
    "            # Assumes 2e ints are ordered as aaaa,bbbb,aabb,bbaa.\n",
    "            for r in range(n_qubits // 2):\n",
    "                for s in range(n_qubits // 2):\n",
    "                    # Same spin\n",
    "                    two_body_coefficients[2 * p, 2 * q, 2 * r, 2 * s] = (\n",
    "                        two_body_integrals[0, p, q, r, s]\n",
    "                    )\n",
    "                    two_body_coefficients[\n",
    "                        2 * p + 1, 2 * q + 1, 2 * r + 1, 2 * s + 1\n",
    "                    ] = two_body_integrals[1, p, q, r, s]\n",
    "\n",
    "                    # Mixed spin in physicist\n",
    "                    two_body_coefficients[2 * p, 2 * q + 1, 2 * r + 1, 2 * s] = (\n",
    "                        two_body_integrals[2, p, q, r, s]\n",
    "                    )\n",
    "                    two_body_coefficients[2 * p + 1, 2 * q, 2 * r, 2 * s + 1] = (\n",
    "                        two_body_integrals[3, p, q, r, s]\n",
    "                    )\n",
    "\n",
    "    # Truncate.\n",
    "    one_body_coefficients[np.absolute(one_body_coefficients) < 1e-8] = 0.0\n",
    "    two_body_coefficients[np.absolute(two_body_coefficients) < 1e-8] = 0.0\n",
    "\n",
    "    return one_body_coefficients, two_body_coefficients\n",
    "\n",
    "\n",
    "class MockBuilder:\n",
    "    def __init__(self, scf_method):\n",
    "        self.scf_method = scf_method\n",
    "        self._restricted = True\n",
    "\n",
    "\n",
    "mb = MockBuilder(mf)\n",
    "\n",
    "ones = _one_body_integrals(mb)\n",
    "twos = _two_body_integrals(mb)\n",
    "ones, twos = _spinorb_from_spatial(ones, twos)\n",
    "qubit_labels = {i for i in range(ones.shape[0])}\n",
    "nuclear_energy = mf.energy_nuc()"
   ]
  },
  {
   "cell_type": "code",
   "execution_count": 15,
   "metadata": {},
   "outputs": [
    {
     "name": "stdout",
     "output_type": "stream",
     "text": [
      "-1.1011503302326182\n"
     ]
    }
   ],
   "source": [
    "####\n",
    "# Next we run a fermionic DMRG calculation\n",
    "####\n",
    "\n",
    "# Expected FCI energy is about -1.13\n",
    "for _ in range(1):\n",
    "    dmrg = DMRG(\n",
    "        hamiltonian=(ones, twos),\n",
    "        max_mps_bond=32,\n",
    "        method=\"two-site\",\n",
    "        hamiltonian_type=\"fermionic\",\n",
    "    )\n",
    "    dmrg.run(maxiter=10)\n",
    "    print(dmrg.energy + mf.energy_nuc())"
   ]
  },
  {
   "cell_type": "code",
   "execution_count": 4,
   "metadata": {},
   "outputs": [
    {
     "name": "stdout",
     "output_type": "stream",
     "text": [
      "[[ 0.031+0.j -0.   +0.j -0.   +0.j  0.   -0.j]\n",
      " [-0.   -0.j  0.   -0.j  0.   +0.j  0.   -0.j]\n",
      " [-0.   -0.j  0.   -0.j  0.   +0.j -0.   -0.j]\n",
      " [ 0.   +0.j  0.   +0.j -0.   +0.j  0.969+0.j]]\n",
      "(0.031+0j) 3 3\n",
      "(-0.173-0j) 3 12\n",
      "(-0.173+0j) 12 3\n",
      "(0.969+0j) 12 12\n"
     ]
    }
   ],
   "source": [
    "ham_dict = ham_dict_from_scf(mf)\n",
    "print(ham_dict)"
   ]
  },
  {
   "cell_type": "code",
   "execution_count": 17,
   "metadata": {},
   "outputs": [
    {
     "name": "stdout",
     "output_type": "stream",
     "text": [
      "-1.101150330232619\n"
     ]
    }
   ],
   "source": [
    "dmrg = DMRG(ham_dict, 8)\n",
    "dmrg.run(10)\n",
    "print(dmrg.energy)"
   ]
  },
  {
   "cell_type": "code",
   "execution_count": null,
   "metadata": {},
   "outputs": [],
   "source": []
  },
  {
   "cell_type": "markdown",
   "metadata": {},
   "source": []
  }
 ],
 "metadata": {
  "kernelspec": {
   "display_name": "tn4qa-cqx8VMJt-py3.11",
   "language": "python",
   "name": "python3"
  },
  "language_info": {
   "codemirror_mode": {
    "name": "ipython",
    "version": 3
   },
   "file_extension": ".py",
   "mimetype": "text/x-python",
   "name": "python",
   "nbconvert_exporter": "python",
   "pygments_lexer": "ipython3",
   "version": "3.11.6"
  }
 },
 "nbformat": 4,
 "nbformat_minor": 2
}
